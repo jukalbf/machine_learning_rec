{
 "cells": [
  {
   "cell_type": "code",
   "execution_count": null,
   "id": "e36aa271",
   "metadata": {},
   "outputs": [],
   "source": [
    "import pandas as pd\n",
    "import numpy as np\n",
    "import matplotlib.pyplot as plt\n",
    "import seaborn as sns\n",
    "from sklearn.datasets import load_breast_cancer\n",
    "from sklearn.cluster import KMeans\n",
    "from sklearn.preprocessing import StandardScaler\n",
    "from sklearn.metrics import silhouette_score\n",
    "from sklearn.decomposition import PCA"
   ]
  },
  {
   "cell_type": "code",
   "execution_count": null,
   "id": "f50a5db3",
   "metadata": {},
   "outputs": [],
   "source": [
    "# Carregar e preparar dados\n",
    "data = load_breast_cancer()\n",
    "df = pd.DataFrame(data.data, columns=data.feature_names)\n",
    "df['target'] = data.target\n",
    "df['diagnosis'] = df['target'].map({0: 'Maligno', 1: 'Benigno'})\n",
    "\n",
    "# Features para clustering\n",
    "features_clustering = ['mean radius', 'mean texture', 'mean perimeter', 'mean area']\n",
    "X = df[features_clustering]\n",
    "\n",
    "# Normalizar dados\n",
    "scaler = StandardScaler()\n",
    "X_scaled = scaler.fit_transform(X)"
   ]
  },
  {
   "cell_type": "code",
   "execution_count": null,
   "id": "fa295d5c",
   "metadata": {},
   "outputs": [],
   "source": [
    "# Encontrar número ideal de clusters\n",
    "inertia = []\n",
    "silhouette_scores = []\n",
    "K_range = range(2, 6)\n",
    "\n",
    "for k in K_range:\n",
    "    kmeans = KMeans(n_clusters=k, random_state=42)\n",
    "    kmeans.fit(X_scaled)\n",
    "    inertia.append(kmeans.inertia_)\n",
    "    silhouette_scores.append(silhouette_score(X_scaled, kmeans.labels_))\n",
    "\n",
    "# Plotar resultados\n",
    "fig, (ax1, ax2) = plt.subplots(1, 2, figsize=(15, 5))\n",
    "\n",
    "ax1.plot(K_range, inertia, 'bo-')\n",
    "ax1.set_xlabel('Número de Clusters (K)')\n",
    "ax1.set_ylabel('Inércia')\n",
    "ax1.set_title('📉 Método do Cotovelo')\n",
    "\n",
    "ax2.plot(K_range, silhouette_scores, 'ro-')\n",
    "ax2.set_xlabel('Número de Clusters (K)')\n",
    "ax2.set_ylabel('Score de Silhueta')\n",
    "ax2.set_title('📊 Score de Silhueta')\n",
    "\n",
    "plt.tight_layout()\n",
    "plt.show()"
   ]
  },
  {
   "cell_type": "code",
   "execution_count": null,
   "id": "fbdc63bf",
   "metadata": {},
   "outputs": [],
   "source": [
    "# Aplicar K-means com K=3 (baseado na análise)\n",
    "kmeans = KMeans(n_clusters=3, random_state=42)\n",
    "clusters = kmeans.fit_predict(X_scaled)\n",
    "df['cluster'] = clusters\n",
    "\n",
    "print(\"📊 Distribuição dos Clusters:\")\n",
    "print(df['cluster'].value_counts().sort_index())"
   ]
  },
  {
   "cell_type": "code",
   "execution_count": null,
   "id": "4320178c",
   "metadata": {},
   "outputs": [],
   "source": [
    "# Visualizar clusters\n",
    "plt.figure(figsize=(15, 5))\n",
    "\n",
    "plt.subplot(1, 3, 1)\n",
    "scatter = plt.scatter(df['mean radius'], df['mean texture'], \n",
    "                     c=df['cluster'], cmap='viridis', alpha=0.7)\n",
    "plt.xlabel('Raio Médio')\n",
    "plt.ylabel('Textura Média')\n",
    "plt.title('🎯 Clusters - Raio vs Textura')\n",
    "plt.colorbar(scatter)\n",
    "\n",
    "plt.subplot(1, 3, 2)\n",
    "scatter = plt.scatter(df['mean perimeter'], df['mean area'], \n",
    "                     c=df['cluster'], cmap='viridis', alpha=0.7)\n",
    "plt.xlabel('Perímetro Médio')\n",
    "plt.ylabel('Área Média')\n",
    "plt.title('📐 Clusters - Perímetro vs Área')\n",
    "plt.colorbar(scatter)\n",
    "\n",
    "# PCA para visualização 2D\n",
    "pca = PCA(n_components=2)\n",
    "X_pca = pca.fit_transform(X_scaled)\n",
    "\n",
    "plt.subplot(1, 3, 3)\n",
    "scatter = plt.scatter(X_pca[:, 0], X_pca[:, 1], c=df['cluster'], cmap='viridis', alpha=0.7)\n",
    "plt.xlabel('Componente Principal 1')\n",
    "plt.ylabel('Componente Principal 2')\n",
    "plt.title('🔮 Visualização PCA dos Clusters')\n",
    "plt.colorbar(scatter)\n",
    "\n",
    "plt.tight_layout()\n",
    "plt.show()"
   ]
  },
  {
   "cell_type": "code",
   "execution_count": null,
   "id": "598e7690",
   "metadata": {},
   "outputs": [],
   "source": [
    "# Análise dos clusters\n",
    "cluster_analysis = df.groupby('cluster').agg({\n",
    "    'mean radius': 'mean',\n",
    "    'mean texture': 'mean', \n",
    "    'mean perimeter': 'mean',\n",
    "    'mean area': 'mean',\n",
    "    'diagnosis': lambda x: x.value_counts().to_dict()\n",
    "}).round(2)\n",
    "\n",
    "print(\"📈 Características Médias por Cluster:\")\n",
    "print(cluster_analysis)"
   ]
  },
  {
   "cell_type": "code",
   "execution_count": null,
   "id": "5c129e5f",
   "metadata": {},
   "outputs": [],
   "source": [
    "# Cruzamento clusters vs diagnóstico real\n",
    "cross_tab = pd.crosstab(df['cluster'], df['diagnosis'])\n",
    "print(\"\\n🎯 Cruzamento: Clusters vs Diagnóstico Real:\")\n",
    "print(cross_tab)\n",
    "\n",
    "# Plotar relação clusters vs diagnóstico\n",
    "plt.figure(figsize=(10, 6))\n",
    "cross_tab.plot(kind='bar', stacked=True, color=['red', 'green'])\n",
    "plt.title('🔍 Cluster vs Diagnóstico Real')\n",
    "plt.xlabel('Cluster')\n",
    "plt.ylabel('Quantidade')\n",
    "plt.legend(title='Diagnóstico')\n",
    "plt.xticks(rotation=0)\n",
    "plt.show()"
   ]
  },
  {
   "cell_type": "code",
   "execution_count": null,
   "id": "40384249",
   "metadata": {},
   "outputs": [],
   "source": [
    "# Interpretação dos clusters\n",
    "print(\"\\n💡 INTERPRETAÇÃO DOS CLUSTERS:\")\n",
    "print(\"Cluster 0: Tumores Pequenos/Medios (Provavelmente Benignos)\")\n",
    "print(\"Cluster 1: Tumores Grandes (Provavelmente Malignos)\") \n",
    "print(\"Cluster 2: Tumores Intermediários (Casos Limítrofes)\")\n",
    "\n",
    "print(f\"\\n🎉 DESCOBERTA: Identificamos um grupo intermediário (Cluster 2) com {len(df[df['cluster']==2])} casos\")\n",
    "print(\"   que podem requerer atenção especial!\")\n"
   ]
  }
 ],
 "metadata": {
  "language_info": {
   "name": "python"
  }
 },
 "nbformat": 4,
 "nbformat_minor": 5
}
